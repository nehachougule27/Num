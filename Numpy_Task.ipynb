{
 "cells": [
  {
   "cell_type": "markdown",
   "id": "5b6c4f66-eda3-40ee-8b54-344ff09bc33d",
   "metadata": {},
   "source": [
    "# Create 1D Array of 0 to 9 "
   ]
  },
  {
   "cell_type": "code",
   "execution_count": 45,
   "id": "4ab21818-0a74-4b56-b80f-c76cfb291a26",
   "metadata": {},
   "outputs": [],
   "source": [
    "import numpy as np"
   ]
  },
  {
   "cell_type": "code",
   "execution_count": 46,
   "id": "478ac303-7cab-4d60-924b-cf8e8588f887",
   "metadata": {},
   "outputs": [
    {
     "data": {
      "text/plain": [
       "array([0, 1, 2, 3, 4, 5, 6, 7, 8, 9])"
      ]
     },
     "execution_count": 46,
     "metadata": {},
     "output_type": "execute_result"
    }
   ],
   "source": [
    "lst = [0,1,2,3,4,5,6,7,8,9]\n",
    "a1 = np.array(lst)\n",
    "a1"
   ]
  },
  {
   "cell_type": "markdown",
   "id": "17715ba5-e013-4a4e-b9b5-316d2556c23a",
   "metadata": {},
   "source": [
    "# Create 2D Array of shape [3][3] with all element as 1"
   ]
  },
  {
   "cell_type": "code",
   "execution_count": 47,
   "id": "f5884f11-8561-4a83-8ba5-008e943c888f",
   "metadata": {},
   "outputs": [
    {
     "data": {
      "text/plain": [
       "array([[1., 1., 1.],\n",
       "       [1., 1., 1.],\n",
       "       [1., 1., 1.]])"
      ]
     },
     "execution_count": 47,
     "metadata": {},
     "output_type": "execute_result"
    }
   ],
   "source": [
    "arr1 = np.ones([3,3],order='C')\n",
    "arr1"
   ]
  },
  {
   "cell_type": "markdown",
   "id": "e489a3f4-248b-425a-8c06-280be474e2c7",
   "metadata": {},
   "source": [
    "# Generate a Numpy array of 15 random integer between 10 and 50"
   ]
  },
  {
   "cell_type": "code",
   "execution_count": 48,
   "id": "70393f79-249c-4904-91a1-68d0aa0c3938",
   "metadata": {},
   "outputs": [
    {
     "data": {
      "text/plain": [
       "array([[10, 31, 42],\n",
       "       [33, 14, 25],\n",
       "       [16, 47, 28],\n",
       "       [19, 30, 18],\n",
       "       [27, 24, 40]])"
      ]
     },
     "execution_count": 48,
     "metadata": {},
     "output_type": "execute_result"
    }
   ],
   "source": [
    "a2 = np.array([10,31,42,33,14,25,16,47,28,19,30,18,27,24,40]).reshape(5,3)\n",
    "a2 "
   ]
  },
  {
   "cell_type": "markdown",
   "id": "86217091-6c01-46fd-b0f5-d4492ec19097",
   "metadata": {},
   "source": [
    "# Create an array of 5 evenly spaced numbers between 0 and 1(inclusive)"
   ]
  },
  {
   "cell_type": "code",
   "execution_count": 49,
   "id": "82835be2-5112-49dc-8fcf-7ccf4fc8d38d",
   "metadata": {},
   "outputs": [
    {
     "data": {
      "text/plain": [
       "array([0.  , 0.25, 0.5 , 0.75, 1.  ])"
      ]
     },
     "execution_count": 49,
     "metadata": {},
     "output_type": "execute_result"
    }
   ],
   "source": [
    "ary = np.linspace(0,1,5)\n",
    "ary"
   ]
  },
  {
   "cell_type": "markdown",
   "id": "445a0370-f7a9-4247-b0d6-b0b2d04be76a",
   "metadata": {},
   "source": [
    "# Create a 4x4 identity matrix using Numpy"
   ]
  },
  {
   "cell_type": "code",
   "execution_count": 50,
   "id": "765318dd-9a0d-49db-b582-b8f7d43da40f",
   "metadata": {},
   "outputs": [
    {
     "data": {
      "text/plain": [
       "array([[1., 0., 0., 0.],\n",
       "       [0., 1., 0., 0.],\n",
       "       [0., 0., 1., 0.],\n",
       "       [0., 0., 0., 1.]])"
      ]
     },
     "execution_count": 50,
     "metadata": {},
     "output_type": "execute_result"
    }
   ],
   "source": [
    "a3 = np.identity(4)\n",
    "a3"
   ]
  },
  {
   "cell_type": "markdown",
   "id": "4ed99aed-3a33-46e6-8b8f-11f5c27681eb",
   "metadata": {},
   "source": [
    "# create an  array from the list[10,20,30,40] and change the datatype to float"
   ]
  },
  {
   "cell_type": "code",
   "execution_count": 51,
   "id": "a956b146-5bb9-4077-a4fc-d407409a5764",
   "metadata": {},
   "outputs": [
    {
     "data": {
      "text/plain": [
       "array([10., 20., 30., 40.], dtype=float32)"
      ]
     },
     "execution_count": 51,
     "metadata": {},
     "output_type": "execute_result"
    }
   ],
   "source": [
    "Lst = [10,20,30,40]\n",
    "array = np.array(Lst,dtype=np.float32)\n",
    "array"
   ]
  },
  {
   "cell_type": "markdown",
   "id": "4892159d-1ad4-4c3a-ac0f-45fb343787ad",
   "metadata": {},
   "source": [
    "# create a 3x3 array with values from 1 to 9 then extract the 2nd column "
   ]
  },
  {
   "cell_type": "code",
   "execution_count": 52,
   "id": "8b74c386-dd41-4170-95cf-3f41e999b59a",
   "metadata": {},
   "outputs": [
    {
     "data": {
      "text/plain": [
       "array([[1, 2, 3],\n",
       "       [4, 5, 6],\n",
       "       [7, 8, 9]])"
      ]
     },
     "execution_count": 52,
     "metadata": {},
     "output_type": "execute_result"
    }
   ],
   "source": [
    "a21 = np.array([1,2,3,4,5,6,7,8,9]).reshape(3,3)\n",
    "a21"
   ]
  },
  {
   "cell_type": "code",
   "execution_count": 53,
   "id": "5e9ece9d-fb18-4aae-a866-f2b82d41ce04",
   "metadata": {},
   "outputs": [
    {
     "data": {
      "text/plain": [
       "array([2, 5, 8])"
      ]
     },
     "execution_count": 53,
     "metadata": {},
     "output_type": "execute_result"
    }
   ],
   "source": [
    "a22=a21[:,1]\n",
    "a22"
   ]
  },
  {
   "cell_type": "markdown",
   "id": "eccaebf2-18e9-4c0e-8590-1dfe6c04af5e",
   "metadata": {},
   "source": [
    "# create a 1D array with 10 elements and reshape it into a 2x5 materix"
   ]
  },
  {
   "cell_type": "code",
   "execution_count": 54,
   "id": "6850680d-6203-4a20-abb9-686c2376b0a5",
   "metadata": {},
   "outputs": [
    {
     "data": {
      "text/plain": [
       "array([[0, 1, 2, 3, 4],\n",
       "       [5, 6, 7, 8, 9]])"
      ]
     },
     "execution_count": 54,
     "metadata": {},
     "output_type": "execute_result"
    }
   ],
   "source": [
    "List = [0,1,2,3,4,5,6,7,8,9]\n",
    "L1 = np.array(lst).reshape(2,5)\n",
    "L1"
   ]
  },
  {
   "cell_type": "markdown",
   "id": "2e7dd595-08de-4f8b-b223-a6e6fb6f6353",
   "metadata": {},
   "source": [
    "# create two 2x2 matrix and perform matrix multiplication"
   ]
  },
  {
   "cell_type": "code",
   "execution_count": 55,
   "id": "13e7fb36-ad9f-4b85-995a-fddebfabc1bb",
   "metadata": {},
   "outputs": [
    {
     "data": {
      "text/plain": [
       "array([[ 3,  6],\n",
       "       [15, 18]])"
      ]
     },
     "execution_count": 55,
     "metadata": {},
     "output_type": "execute_result"
    }
   ],
   "source": [
    "lst = [[1,2],[5,6]]\n",
    "a1 = np.array(lst)\n",
    "np.multiply(a1,3)"
   ]
  },
  {
   "cell_type": "markdown",
   "id": "5acb96f7-83ff-4135-acdc-1a77cb0130f7",
   "metadata": {},
   "source": [
    "# given the array arr=np.array([5,12,7,18,3]), replace all values greater than 10 with 100"
   ]
  },
  {
   "cell_type": "code",
   "execution_count": 56,
   "id": "9ccac788-10da-4ea4-aacf-5f39539b51cb",
   "metadata": {},
   "outputs": [
    {
     "data": {
      "text/plain": [
       "array([  5, 100,   7, 100,   3])"
      ]
     },
     "execution_count": 56,
     "metadata": {},
     "output_type": "execute_result"
    }
   ],
   "source": [
    "arr = np.array([5, 12, 7, 18, 3])\n",
    "arr[arr > 10] = 100\n",
    "arr"
   ]
  },
  {
   "cell_type": "code",
   "execution_count": null,
   "id": "e218a2fd-825b-4129-b94e-1cd4cb447a0a",
   "metadata": {},
   "outputs": [],
   "source": []
  }
 ],
 "metadata": {
  "kernelspec": {
   "display_name": "Python [conda env:base] *",
   "language": "python",
   "name": "conda-base-py"
  },
  "language_info": {
   "codemirror_mode": {
    "name": "ipython",
    "version": 3
   },
   "file_extension": ".py",
   "mimetype": "text/x-python",
   "name": "python",
   "nbconvert_exporter": "python",
   "pygments_lexer": "ipython3",
   "version": "3.12.7"
  }
 },
 "nbformat": 4,
 "nbformat_minor": 5
}
